{
 "cells": [
  {
   "cell_type": "markdown",
   "metadata": {},
   "source": [
    "# Table of content\n",
    "* [About QR](#About-QR)\n",
    "* [The QR Code Modes](#The-QR-Code-Modes)\n",
    "* [Data Encoding](#Data-Encoding)\n",
    "  * [Step 1: Choose the Error Correction Level](#Step-1:-Choose-the-Error-Correction-Level)\n",
    "  * [Step 2: Determine the Smallest Version for the Data](#Step-2:-Determine-the-Smallest-Version-for-the-Data)\n",
    "  * [Character Capacities by Version, Mode, and Error Correction](#Character-Capacities-by-Version,-Mode,-and-Error-Correction)\n",
    "  * [Step 3: Add the Mode Indicator](#Step-3:-Add-the-Mode-Indicator)\n",
    "  * [Step 4: Add the Character Count Indicator](#Step-4:-Add-the-Character-Count-Indicator)\n",
    "  * [Step 5: Encode Using the Selected Mode](#Step-5:-Encode-Using-the-Selected-Mode)\n",
    "  * [Step 6: Break Up into 8-bit Codewords and Add Pad Bytes if necessary](#Step-6:-Break-Up-into-8-bit-Codewords-and-Add-Pad-Bytes-if-necessary)\n",
    "* [Error Correction Coding](#Error-Correction-Coding)\n",
    "  * [Step 1: Break Data Codewords into Blocks if Necessary](#Step-1:-Break-Data-Codewords-into-Blocks-if-Necessary)\n",
    "  * [Understand Galois Field Arithmetic](#Understand-Galois-Field-Arithmetic)\n",
    "* [Structure Final Message](#Structure-Final-Message)\n",
    "  * [Interleave the Blocks](#Interleave-the-Blocks)\n",
    "  * [Add Remainder Bits if Necessary](#Add-Remainder-Bits-if-Necessary)\n",
    "* [Module Placement in Matrix](#Module-Placement-in-Matrix)\n",
    "  * [Inserting format information, data bits and applying masking](#Inserting-format-information,-data-bits-and-applying-masking)\n",
    "  * [Masking:](#Masking:)\n",
    "* [Penalty evaluation on masked QR.](#Penalty-evaluation-on-masked-QR.)\n",
    "* [Displaying the least penalty QR code](#Displaying-the-least-penalty-QR-code)\n",
    "* [Displaying all essential variables](#Displaying-all-essential-variables)"
   ]
  },
  {
   "cell_type": "markdown",
   "metadata": {},
   "source": [
    "# About QR\n",
    "**QR stands for (quick response)**. The smallest QR codes are 21x21 pixels, and the largest are 177x177. The sizes are called versions. **The 21x21 pixel size is version 1, 25x25 is version 2, and so on. The 177x177 size is version 40.**\n",
    "\n",
    "In addition, **QR codes include error correction: when you encode the QR code, you also create some redundant data that will help a QR reader accurately read the code even if part of it is unreadable.** There are four levels of error correction that you can choose from:\n",
    "1. The lowest is L, which allows the code to be read even if 7% of it is unreadable. \n",
    "* After that is M, which provides 15% error correction, \n",
    "* then Q, which provides 25%,\n",
    "* finally H, which provides 30%.\n",
    "\n",
    "The capacity of a given QR code depends on the version and error correction level, as well as on the type of data that you are encoding. **There are four data modes that a QR code can encode: numeric, alphanumeric, binary, or Kanji.**"
   ]
  },
  {
   "cell_type": "markdown",
   "metadata": {},
   "source": [
    "# The QR Code Modes\n",
    "This tutorial considers only 2 modes i.e, **Numeric mode and Alphanumeric mode.**\n",
    "1. **Numeric mode** is for decimal digits 0 through 9.\n",
    "2. **Alphanumeric mode** is for the decimal digits 0 through 9, as well as uppercase letters (not lowercase!), and the symbols `$, %, *, +, -, ., /, and :` as well as a space."
   ]
  },
  {
   "cell_type": "markdown",
   "metadata": {},
   "source": [
    "# Data Encoding"
   ]
  },
  {
   "cell_type": "markdown",
   "metadata": {},
   "source": [
    "## Step 1: Choose the Error Correction Level\n",
    "QR codes use Reed-Solomon error correction. Error correction codewords can be used to correct those errors. There are four levels of error correction: L, M, Q, H.  \n",
    "\n",
    "| Error Correction Level | Error Correction Capability |\n",
    "| :---: | :---: |\n",
    "| L | Recovers 7% of data |\n",
    "| M | Recovers 15% of data |\n",
    "| Q | Recovers 25% of data |\n",
    "| H | Recovers 30% of data |"
   ]
  },
  {
   "cell_type": "code",
   "execution_count": 1,
   "metadata": {},
   "outputs": [
    {
     "name": "stdout",
     "output_type": "stream",
     "text": [
      "Enter the text to be encoded\n",
      "subir kumar saha\n",
      "Mode of encoding: ALPHANUMERIC\n",
      "Enter error correction level:\n",
      "0 for L (Low)\n",
      "1 for M (Medium)\n",
      "2 for Q\n",
      "3 for H (High)\n",
      "0\n",
      "MODE SELECTED: 1 and ERROR CORECTION LEVEL SELECTED: 0\n"
     ]
    }
   ],
   "source": [
    "import re\n",
    "text=input(\"Enter the text to be encoded\\n\")\n",
    "\n",
    "\n",
    "alpha_string='0123456789ABCDEFGHIJKLMNOPQRSTUVWXYZ $%*+-./:'\n",
    "num_string='0123456789'\n",
    "text1=text.upper()\n",
    "if len(re.findall(r'[{}]'.format(num_string),text1))==len(text1):\n",
    "    print('Mode of encoding: NUMERIC')\n",
    "    mode=0\n",
    "elif len(re.findall(r'[{}]'.format(alpha_string),text1))==len(text1):\n",
    "    print('Mode of encoding: ALPHANUMERIC')\n",
    "    text=text1\n",
    "    mode=1\n",
    "else:\n",
    "    print('Mode of encoding: BYTE')\n",
    "    mode=2\n",
    "ECL=eval(input(\"\"\"Enter error correction level:\n",
    "0 for L (Low)\n",
    "1 for M (Medium)\n",
    "2 for Q\n",
    "3 for H (High)\\n\"\"\"))\n",
    "print(\"MODE SELECTED: {} and ERROR CORECTION LEVEL SELECTED: {}\".format(mode,ECL))"
   ]
  },
  {
   "cell_type": "markdown",
   "metadata": {},
   "source": [
    "## Step 2: Determine the Smallest Version for the Data\n",
    "Each version has a maximum capacity, depending on the mode in use. In addition, the error correction\n",
    "level restricts the capacity further.  \n",
    "[Link to Character Capacities by Version, Mode, and Error Correction](#Character-Capacities-by-Version,-Mode,-and-Error-Correction)"
   ]
  },
  {
   "cell_type": "markdown",
   "metadata": {},
   "source": [
    "# Character Capacities by Version, Mode, and Error Correction"
   ]
  },
  {
   "cell_type": "code",
   "execution_count": 2,
   "metadata": {},
   "outputs": [
    {
     "data": {
      "text/html": [
       "<div>\n",
       "<style>\n",
       "    .dataframe thead tr:only-child th {\n",
       "        text-align: right;\n",
       "    }\n",
       "\n",
       "    .dataframe thead th {\n",
       "        text-align: left;\n",
       "    }\n",
       "\n",
       "    .dataframe tbody tr th {\n",
       "        vertical-align: top;\n",
       "    }\n",
       "</style>\n",
       "<table border=\"1\" class=\"dataframe\">\n",
       "  <thead>\n",
       "    <tr style=\"text-align: right;\">\n",
       "      <th></th>\n",
       "      <th>version-&gt;</th>\n",
       "      <th>1</th>\n",
       "      <th>2</th>\n",
       "      <th>3</th>\n",
       "      <th>4</th>\n",
       "      <th>5</th>\n",
       "      <th>6</th>\n",
       "      <th>7</th>\n",
       "      <th>8</th>\n",
       "      <th>9</th>\n",
       "      <th>...</th>\n",
       "      <th>31</th>\n",
       "      <th>32</th>\n",
       "      <th>33</th>\n",
       "      <th>34</th>\n",
       "      <th>35</th>\n",
       "      <th>36</th>\n",
       "      <th>37</th>\n",
       "      <th>38</th>\n",
       "      <th>39</th>\n",
       "      <th>40</th>\n",
       "    </tr>\n",
       "  </thead>\n",
       "  <tbody>\n",
       "    <tr>\n",
       "      <th>0</th>\n",
       "      <td>Numericmode(L)</td>\n",
       "      <td>41</td>\n",
       "      <td>77</td>\n",
       "      <td>127</td>\n",
       "      <td>187</td>\n",
       "      <td>255</td>\n",
       "      <td>322</td>\n",
       "      <td>370</td>\n",
       "      <td>461</td>\n",
       "      <td>552</td>\n",
       "      <td>...</td>\n",
       "      <td>4417</td>\n",
       "      <td>4686</td>\n",
       "      <td>4965</td>\n",
       "      <td>5253</td>\n",
       "      <td>5529</td>\n",
       "      <td>5836</td>\n",
       "      <td>6153</td>\n",
       "      <td>6479</td>\n",
       "      <td>6743</td>\n",
       "      <td>7089</td>\n",
       "    </tr>\n",
       "    <tr>\n",
       "      <th>1</th>\n",
       "      <td>Numericmode(M)</td>\n",
       "      <td>34</td>\n",
       "      <td>63</td>\n",
       "      <td>101</td>\n",
       "      <td>149</td>\n",
       "      <td>202</td>\n",
       "      <td>255</td>\n",
       "      <td>293</td>\n",
       "      <td>365</td>\n",
       "      <td>432</td>\n",
       "      <td>...</td>\n",
       "      <td>3486</td>\n",
       "      <td>3693</td>\n",
       "      <td>3909</td>\n",
       "      <td>4134</td>\n",
       "      <td>4343</td>\n",
       "      <td>4588</td>\n",
       "      <td>4775</td>\n",
       "      <td>5039</td>\n",
       "      <td>5313</td>\n",
       "      <td>5596</td>\n",
       "    </tr>\n",
       "    <tr>\n",
       "      <th>2</th>\n",
       "      <td>Numericmode(Q)</td>\n",
       "      <td>27</td>\n",
       "      <td>48</td>\n",
       "      <td>77</td>\n",
       "      <td>111</td>\n",
       "      <td>144</td>\n",
       "      <td>178</td>\n",
       "      <td>207</td>\n",
       "      <td>259</td>\n",
       "      <td>312</td>\n",
       "      <td>...</td>\n",
       "      <td>2473</td>\n",
       "      <td>2670</td>\n",
       "      <td>2805</td>\n",
       "      <td>2949</td>\n",
       "      <td>3081</td>\n",
       "      <td>3244</td>\n",
       "      <td>3417</td>\n",
       "      <td>3599</td>\n",
       "      <td>3791</td>\n",
       "      <td>3993</td>\n",
       "    </tr>\n",
       "    <tr>\n",
       "      <th>3</th>\n",
       "      <td>Numericmode(H)</td>\n",
       "      <td>17</td>\n",
       "      <td>34</td>\n",
       "      <td>58</td>\n",
       "      <td>82</td>\n",
       "      <td>106</td>\n",
       "      <td>139</td>\n",
       "      <td>154</td>\n",
       "      <td>202</td>\n",
       "      <td>235</td>\n",
       "      <td>...</td>\n",
       "      <td>1897</td>\n",
       "      <td>2022</td>\n",
       "      <td>2157</td>\n",
       "      <td>2301</td>\n",
       "      <td>2361</td>\n",
       "      <td>2524</td>\n",
       "      <td>2625</td>\n",
       "      <td>2735</td>\n",
       "      <td>2927</td>\n",
       "      <td>3057</td>\n",
       "    </tr>\n",
       "    <tr>\n",
       "      <th>4</th>\n",
       "      <td>AlphanumericMode(L)</td>\n",
       "      <td>25</td>\n",
       "      <td>47</td>\n",
       "      <td>77</td>\n",
       "      <td>114</td>\n",
       "      <td>154</td>\n",
       "      <td>195</td>\n",
       "      <td>224</td>\n",
       "      <td>279</td>\n",
       "      <td>335</td>\n",
       "      <td>...</td>\n",
       "      <td>2677</td>\n",
       "      <td>2840</td>\n",
       "      <td>3009</td>\n",
       "      <td>3183</td>\n",
       "      <td>3351</td>\n",
       "      <td>3537</td>\n",
       "      <td>3729</td>\n",
       "      <td>3927</td>\n",
       "      <td>4087</td>\n",
       "      <td>4296</td>\n",
       "    </tr>\n",
       "    <tr>\n",
       "      <th>5</th>\n",
       "      <td>AlphanumericMode(H)</td>\n",
       "      <td>20</td>\n",
       "      <td>38</td>\n",
       "      <td>61</td>\n",
       "      <td>90</td>\n",
       "      <td>122</td>\n",
       "      <td>154</td>\n",
       "      <td>178</td>\n",
       "      <td>221</td>\n",
       "      <td>262</td>\n",
       "      <td>...</td>\n",
       "      <td>2113</td>\n",
       "      <td>2238</td>\n",
       "      <td>2369</td>\n",
       "      <td>2506</td>\n",
       "      <td>2632</td>\n",
       "      <td>2780</td>\n",
       "      <td>2894</td>\n",
       "      <td>3054</td>\n",
       "      <td>3220</td>\n",
       "      <td>3391</td>\n",
       "    </tr>\n",
       "    <tr>\n",
       "      <th>6</th>\n",
       "      <td>AlphanumericMode(Q)</td>\n",
       "      <td>16</td>\n",
       "      <td>29</td>\n",
       "      <td>47</td>\n",
       "      <td>67</td>\n",
       "      <td>87</td>\n",
       "      <td>108</td>\n",
       "      <td>125</td>\n",
       "      <td>157</td>\n",
       "      <td>189</td>\n",
       "      <td>...</td>\n",
       "      <td>1499</td>\n",
       "      <td>1618</td>\n",
       "      <td>1700</td>\n",
       "      <td>1787</td>\n",
       "      <td>1867</td>\n",
       "      <td>1966</td>\n",
       "      <td>2071</td>\n",
       "      <td>2181</td>\n",
       "      <td>2298</td>\n",
       "      <td>2420</td>\n",
       "    </tr>\n",
       "    <tr>\n",
       "      <th>7</th>\n",
       "      <td>AlphanumericMode(H)</td>\n",
       "      <td>10</td>\n",
       "      <td>20</td>\n",
       "      <td>35</td>\n",
       "      <td>50</td>\n",
       "      <td>64</td>\n",
       "      <td>84</td>\n",
       "      <td>93</td>\n",
       "      <td>122</td>\n",
       "      <td>143</td>\n",
       "      <td>...</td>\n",
       "      <td>1150</td>\n",
       "      <td>1226</td>\n",
       "      <td>1307</td>\n",
       "      <td>1394</td>\n",
       "      <td>1431</td>\n",
       "      <td>1530</td>\n",
       "      <td>1591</td>\n",
       "      <td>1658</td>\n",
       "      <td>1774</td>\n",
       "      <td>1852</td>\n",
       "    </tr>\n",
       "  </tbody>\n",
       "</table>\n",
       "<p>8 rows × 41 columns</p>\n",
       "</div>"
      ],
      "text/plain": [
       "             version->   1   2    3    4    5    6    7    8    9  ...     31  \\\n",
       "0       Numericmode(L)  41  77  127  187  255  322  370  461  552  ...   4417   \n",
       "1       Numericmode(M)  34  63  101  149  202  255  293  365  432  ...   3486   \n",
       "2       Numericmode(Q)  27  48   77  111  144  178  207  259  312  ...   2473   \n",
       "3       Numericmode(H)  17  34   58   82  106  139  154  202  235  ...   1897   \n",
       "4  AlphanumericMode(L)  25  47   77  114  154  195  224  279  335  ...   2677   \n",
       "5  AlphanumericMode(H)  20  38   61   90  122  154  178  221  262  ...   2113   \n",
       "6  AlphanumericMode(Q)  16  29   47   67   87  108  125  157  189  ...   1499   \n",
       "7  AlphanumericMode(H)  10  20   35   50   64   84   93  122  143  ...   1150   \n",
       "\n",
       "     32    33    34    35    36    37    38    39    40  \n",
       "0  4686  4965  5253  5529  5836  6153  6479  6743  7089  \n",
       "1  3693  3909  4134  4343  4588  4775  5039  5313  5596  \n",
       "2  2670  2805  2949  3081  3244  3417  3599  3791  3993  \n",
       "3  2022  2157  2301  2361  2524  2625  2735  2927  3057  \n",
       "4  2840  3009  3183  3351  3537  3729  3927  4087  4296  \n",
       "5  2238  2369  2506  2632  2780  2894  3054  3220  3391  \n",
       "6  1618  1700  1787  1867  1966  2071  2181  2298  2420  \n",
       "7  1226  1307  1394  1431  1530  1591  1658  1774  1852  \n",
       "\n",
       "[8 rows x 41 columns]"
      ]
     },
     "execution_count": 2,
     "metadata": {},
     "output_type": "execute_result"
    }
   ],
   "source": [
    "# Displaying the table for character capacity\n",
    "import pandas as pd\n",
    "char_capacity=pd.read_csv('character_capacity.csv')\n",
    "char_capacity.head(8)"
   ]
  },
  {
   "cell_type": "code",
   "execution_count": 3,
   "metadata": {},
   "outputs": [
    {
     "name": "stdout",
     "output_type": "stream",
     "text": [
      "Selected version is: 0\n"
     ]
    }
   ],
   "source": [
    "import numpy as np\n",
    "max_capacity=np.zeros((40,4,4),dtype=np.uint16)\n",
    "for i in range(40):\n",
    "    for j in range(4):\n",
    "        max_capacity[i,:,j]=char_capacity.iloc[4*j:4*j+4,i+1]\n",
    "\n",
    "for i in range(40):\n",
    "    if max_capacity[i,ECL,mode]>len(text):\n",
    "        version=i\n",
    "        break\n",
    "print('Selected version is: {}'.format(version))"
   ]
  },
  {
   "cell_type": "markdown",
   "metadata": {},
   "source": [
    "## Step 3: Add the Mode Indicator\n",
    "Each encoding mode has a four-bit mode indicator that identifies it.\n",
    "\n",
    "| Mode Name | Mode Indicator |\n",
    "| :---: | :---: |\n",
    "|Numeric Mode | 0001 |\n",
    "|Alphanumeric Mode | 0010 |\n",
    "|Byte Mode | 0100 |\n",
    "|Kanji Mode | 1000 |\n",
    "|ECI Mode | 0111 |"
   ]
  },
  {
   "cell_type": "code",
   "execution_count": 4,
   "metadata": {},
   "outputs": [
    {
     "name": "stdout",
     "output_type": "stream",
     "text": [
      "mode indicator selected: 0010\n"
     ]
    }
   ],
   "source": [
    "mode_indicator_array=('0001','0010','0100','1000','0111')\n",
    "mode_indicator=mode_indicator_array[mode]\n",
    "print('mode indicator selected: {}'.format(mode_indicator))"
   ]
  },
  {
   "cell_type": "markdown",
   "metadata": {},
   "source": [
    "## Step 4: Add the Character Count Indicator\n",
    "The character count indicator is a string of bits that **represents the number of characters that are being\n",
    "encoded.** The character count indicator must be **placed after the mode indicator.** Character count indicator must be a **certain number of bits long, depending on the QR version.**\n",
    "\n",
    "Count the number of characters in the original input text, then convert that number into binary. The length of the character count indicator depends on the encoding mode and the QR code version that will be in use. **To make the binary string the appropriate length, pad it on the left with 0s.**\n",
    "\n",
    "| | Numeric mode | Alphanumeric mode | Byte mode | Japanese mode |\n",
    "| :-: | :-: | :-: | :-: | :-: |\n",
    "| Versions 1 through 9 | 10 bits | 9 bits | 8 bits | 8 bits |\n",
    "| Versions 10 through 26 | 12 bits | 11 bits | 16 bits | 10 bits |\n",
    "| Versions 27 through 40 | 14 bits | 13 bits | 16 bits | 12 bits |"
   ]
  },
  {
   "cell_type": "code",
   "execution_count": 5,
   "metadata": {},
   "outputs": [
    {
     "name": "stdout",
     "output_type": "stream",
     "text": [
      "Character count for text: 000010000\n"
     ]
    }
   ],
   "source": [
    "character_count_array=np.array([[10,9,8,8],\n",
    "                               [12,11,16,10],\n",
    "                               [14,13,16,12]],dtype=np.uint8)\n",
    "if 1<=version+1<=9:\n",
    "    character_count_len=character_count_array[0,mode]\n",
    "elif 10<=version+1<=26:\n",
    "    character_count_len=character_count_array[1,mode]\n",
    "elif 27<=version+1<=40:\n",
    "    character_count_len=character_count_array[2,mode]\n",
    "character_count=bin(len(text))[2:].zfill(character_count_len)\n",
    "print('Character count for text: {}'.format(character_count))"
   ]
  },
  {
   "cell_type": "markdown",
   "metadata": {},
   "source": [
    "## Step 5: Encode Using the Selected Mode\n",
    "**Each mode has separate encoding.**  \n",
    "[Link to numeric encoding](#Numeric-encoding)  \n",
    "[Link to alphanumeric encoding](#Alphanumeric-encoding)  \n",
    "[Link to byte encoding](#Byte-encoding)"
   ]
  },
  {
   "cell_type": "markdown",
   "metadata": {},
   "source": [
    "### Numeric encoding\n",
    "1. In numeric mode ,data is delimited by 3 digits. For example,\"123456\" is delimited \"123\" and \"456\",and first data is \"123\",second data is \"456\".\n",
    "2. And each data is encoded in 10 bit long binary representation.\n",
    "3. When length of delimited data is 1 or 2, 4 bit long or 7 bit long are used in each case. For example,\"9876\" is delimited \"987\" in 10 bit long and \"6\" in 4 bit long. Its result is \"1111011011 0110\"\n",
    "\n",
    "Link to **[reference website](http://www.swetake.com/qrcode/qr2_en.html)**."
   ]
  },
  {
   "cell_type": "code",
   "execution_count": 6,
   "metadata": {
    "collapsed": true
   },
   "outputs": [],
   "source": [
    "if mode==0:\n",
    "    l=len(text)\n",
    "    data=''\n",
    "    for i in range(0,l,3):\n",
    "        if len(text[i:i+3])==3:\n",
    "            data+=bin(eval(text[i:i+3]))[2:].zfill(10)\n",
    "        if len(text[i:i+3])==2:\n",
    "            data+=bin(eval(text[i:i+3]))[2:].zfill(7)\n",
    "        if len(text[i:i+3])==1:\n",
    "            data+=bin(eval(text[i:i+3]))[2:].zfill(4)\n",
    "    print('Numeric encoded data string is : {}'.format(data))"
   ]
  },
  {
   "cell_type": "markdown",
   "metadata": {},
   "source": [
    "### Alphanumeric encoding\n",
    "1. Take a sample string say \"HELLO WORLD\" and split it into pairs of 2 i.e, 'HE','LL','O ','WO','RL' and 'D'.\n",
    "* Find the index of each character in pair and convert it into a number i.e, H->17 and E->14, so equivalent number is `17*45+14=779`.\n",
    "* convert that number into an 11-bit binary string i.e, 779->01100001011\n",
    "* If you are encoding an odd number of characters, as we are here, take the numeric representation of the final character and convert it into a 6-bit binary string."
   ]
  },
  {
   "cell_type": "code",
   "execution_count": 7,
   "metadata": {},
   "outputs": [
    {
     "name": "stdout",
     "output_type": "stream",
     "text": [
      "Alphanumeric encoded data string is : 1010000101001000000001100111000110111010001001111101000100111000111001111011001100000111\n"
     ]
    }
   ],
   "source": [
    "if mode==1:\n",
    "    alphanumeric_lst=[i for i in '0123456789ABCDEFGHIJKLMNOPQRSTUVWXYZ $%*+-./:']\n",
    "    l=len(text)\n",
    "    data=''\n",
    "    for i in range(0,l,2):\n",
    "        if len(text[i:i+2])==2:\n",
    "            data+=bin(alphanumeric_lst.index(text[i])*45+alphanumeric_lst.index(text[i+1]))[2:].zfill(11)\n",
    "        else:\n",
    "            data+=bin(alphanumeric_lst.index(text[i]))[2:].zfill(6)\n",
    "    print('Alphanumeric encoded data string is : {}'.format(data))"
   ]
  },
  {
   "cell_type": "markdown",
   "metadata": {},
   "source": [
    "### Byte encoding\n",
    "1. This encoding can encode more symbols, compared to Alphanumeric encoding.\n",
    "* Every character in the string is converted to its 8-bits ASCII representation and mearged together."
   ]
  },
  {
   "cell_type": "code",
   "execution_count": 8,
   "metadata": {
    "collapsed": true
   },
   "outputs": [],
   "source": [
    "if mode==2:\n",
    "    data=''\n",
    "    for i in text:\n",
    "        data+=bin(ord(i))[2:].zfill(8)\n",
    "    print('Byte encoded data string is : {}'.format(data))"
   ]
  },
  {
   "cell_type": "markdown",
   "metadata": {},
   "source": [
    "## Step 6: Break Up into 8-bit Codewords and Add Pad Bytes if necessary\n",
    "After obtaining a string of bits that consists of the mode indicator, the character count indicator, and the data bits, it may be necessary to add 0s and pad bytes, **because the QR code specification requires that the bit string must completely fill the total capacity of the QR code.** So, follow the below steps:\n",
    "* Determine the Required Number of Bits for this QR Code (form the below table)\n",
    "* Add a Terminator of 0s if Necessary at end to make no. of bits multiple of 8.\n",
    "* Add Pad Bytes if the String is Still too Short (11101100 00010001) these bytes are equivalent to 236 and 17, respectively."
   ]
  },
  {
   "cell_type": "code",
   "execution_count": 9,
   "metadata": {},
   "outputs": [
    {
     "data": {
      "text/html": [
       "<div>\n",
       "<style>\n",
       "    .dataframe thead tr:only-child th {\n",
       "        text-align: right;\n",
       "    }\n",
       "\n",
       "    .dataframe thead th {\n",
       "        text-align: left;\n",
       "    }\n",
       "\n",
       "    .dataframe tbody tr th {\n",
       "        vertical-align: top;\n",
       "    }\n",
       "</style>\n",
       "<table border=\"1\" class=\"dataframe\">\n",
       "  <thead>\n",
       "    <tr style=\"text-align: right;\">\n",
       "      <th></th>\n",
       "      <th>Version and EC Level</th>\n",
       "      <th>Total Number of Data Codewords</th>\n",
       "      <th>EC Codewords Per Block</th>\n",
       "      <th>Number of Blocks in Group 1</th>\n",
       "      <th>Number of Data Codewords in Each of Group 1's Blocks</th>\n",
       "      <th>Number of Blocks in Group 2</th>\n",
       "      <th>Number of Data Codewords in Each of Group 2's Blocks</th>\n",
       "      <th>Total Data Codewords</th>\n",
       "    </tr>\n",
       "  </thead>\n",
       "  <tbody>\n",
       "    <tr>\n",
       "      <th>0</th>\n",
       "      <td>1-L</td>\n",
       "      <td>19</td>\n",
       "      <td>7</td>\n",
       "      <td>1</td>\n",
       "      <td>19</td>\n",
       "      <td>0</td>\n",
       "      <td>0</td>\n",
       "      <td>(19*1)=19</td>\n",
       "    </tr>\n",
       "    <tr>\n",
       "      <th>1</th>\n",
       "      <td>1-M</td>\n",
       "      <td>16</td>\n",
       "      <td>10</td>\n",
       "      <td>1</td>\n",
       "      <td>16</td>\n",
       "      <td>0</td>\n",
       "      <td>0</td>\n",
       "      <td>(16*1)=16</td>\n",
       "    </tr>\n",
       "    <tr>\n",
       "      <th>2</th>\n",
       "      <td>1-Q</td>\n",
       "      <td>13</td>\n",
       "      <td>13</td>\n",
       "      <td>1</td>\n",
       "      <td>13</td>\n",
       "      <td>0</td>\n",
       "      <td>0</td>\n",
       "      <td>(13*1)=13</td>\n",
       "    </tr>\n",
       "    <tr>\n",
       "      <th>3</th>\n",
       "      <td>1-H</td>\n",
       "      <td>9</td>\n",
       "      <td>17</td>\n",
       "      <td>1</td>\n",
       "      <td>9</td>\n",
       "      <td>0</td>\n",
       "      <td>0</td>\n",
       "      <td>(9*1)=9</td>\n",
       "    </tr>\n",
       "    <tr>\n",
       "      <th>4</th>\n",
       "      <td>2-L</td>\n",
       "      <td>34</td>\n",
       "      <td>10</td>\n",
       "      <td>1</td>\n",
       "      <td>34</td>\n",
       "      <td>0</td>\n",
       "      <td>0</td>\n",
       "      <td>(34*1)=34</td>\n",
       "    </tr>\n",
       "    <tr>\n",
       "      <th>5</th>\n",
       "      <td>2-M</td>\n",
       "      <td>28</td>\n",
       "      <td>16</td>\n",
       "      <td>1</td>\n",
       "      <td>28</td>\n",
       "      <td>0</td>\n",
       "      <td>0</td>\n",
       "      <td>(28*1)=28</td>\n",
       "    </tr>\n",
       "    <tr>\n",
       "      <th>6</th>\n",
       "      <td>2-Q</td>\n",
       "      <td>22</td>\n",
       "      <td>22</td>\n",
       "      <td>1</td>\n",
       "      <td>22</td>\n",
       "      <td>0</td>\n",
       "      <td>0</td>\n",
       "      <td>(22*1)=22</td>\n",
       "    </tr>\n",
       "    <tr>\n",
       "      <th>7</th>\n",
       "      <td>2-H</td>\n",
       "      <td>16</td>\n",
       "      <td>28</td>\n",
       "      <td>1</td>\n",
       "      <td>16</td>\n",
       "      <td>0</td>\n",
       "      <td>0</td>\n",
       "      <td>(16*1)=16</td>\n",
       "    </tr>\n",
       "    <tr>\n",
       "      <th>8</th>\n",
       "      <td>3-L</td>\n",
       "      <td>55</td>\n",
       "      <td>15</td>\n",
       "      <td>1</td>\n",
       "      <td>55</td>\n",
       "      <td>0</td>\n",
       "      <td>0</td>\n",
       "      <td>(55*1)=55</td>\n",
       "    </tr>\n",
       "    <tr>\n",
       "      <th>9</th>\n",
       "      <td>3-M</td>\n",
       "      <td>44</td>\n",
       "      <td>26</td>\n",
       "      <td>1</td>\n",
       "      <td>44</td>\n",
       "      <td>0</td>\n",
       "      <td>0</td>\n",
       "      <td>(44*1)=44</td>\n",
       "    </tr>\n",
       "    <tr>\n",
       "      <th>10</th>\n",
       "      <td>3-Q</td>\n",
       "      <td>34</td>\n",
       "      <td>18</td>\n",
       "      <td>2</td>\n",
       "      <td>17</td>\n",
       "      <td>0</td>\n",
       "      <td>0</td>\n",
       "      <td>(17*2)=34</td>\n",
       "    </tr>\n",
       "    <tr>\n",
       "      <th>11</th>\n",
       "      <td>3-H</td>\n",
       "      <td>26</td>\n",
       "      <td>22</td>\n",
       "      <td>2</td>\n",
       "      <td>13</td>\n",
       "      <td>0</td>\n",
       "      <td>0</td>\n",
       "      <td>(13*2)=26</td>\n",
       "    </tr>\n",
       "  </tbody>\n",
       "</table>\n",
       "</div>"
      ],
      "text/plain": [
       "   Version and EC Level  Total Number of Data Codewords  \\\n",
       "0                   1-L                              19   \n",
       "1                   1-M                              16   \n",
       "2                   1-Q                              13   \n",
       "3                   1-H                               9   \n",
       "4                   2-L                              34   \n",
       "5                   2-M                              28   \n",
       "6                   2-Q                              22   \n",
       "7                   2-H                              16   \n",
       "8                   3-L                              55   \n",
       "9                   3-M                              44   \n",
       "10                  3-Q                              34   \n",
       "11                  3-H                              26   \n",
       "\n",
       "    EC Codewords Per Block  Number of Blocks in Group 1  \\\n",
       "0                        7                            1   \n",
       "1                       10                            1   \n",
       "2                       13                            1   \n",
       "3                       17                            1   \n",
       "4                       10                            1   \n",
       "5                       16                            1   \n",
       "6                       22                            1   \n",
       "7                       28                            1   \n",
       "8                       15                            1   \n",
       "9                       26                            1   \n",
       "10                      18                            2   \n",
       "11                      22                            2   \n",
       "\n",
       "    Number of Data Codewords in Each of Group 1's Blocks  \\\n",
       "0                                                  19      \n",
       "1                                                  16      \n",
       "2                                                  13      \n",
       "3                                                   9      \n",
       "4                                                  34      \n",
       "5                                                  28      \n",
       "6                                                  22      \n",
       "7                                                  16      \n",
       "8                                                  55      \n",
       "9                                                  44      \n",
       "10                                                 17      \n",
       "11                                                 13      \n",
       "\n",
       "    Number of Blocks in Group 2  \\\n",
       "0                             0   \n",
       "1                             0   \n",
       "2                             0   \n",
       "3                             0   \n",
       "4                             0   \n",
       "5                             0   \n",
       "6                             0   \n",
       "7                             0   \n",
       "8                             0   \n",
       "9                             0   \n",
       "10                            0   \n",
       "11                            0   \n",
       "\n",
       "    Number of Data Codewords in Each of Group 2's Blocks Total Data Codewords  \n",
       "0                                                   0               (19*1)=19  \n",
       "1                                                   0               (16*1)=16  \n",
       "2                                                   0               (13*1)=13  \n",
       "3                                                   0                 (9*1)=9  \n",
       "4                                                   0               (34*1)=34  \n",
       "5                                                   0               (28*1)=28  \n",
       "6                                                   0               (22*1)=22  \n",
       "7                                                   0               (16*1)=16  \n",
       "8                                                   0               (55*1)=55  \n",
       "9                                                   0               (44*1)=44  \n",
       "10                                                  0               (17*2)=34  \n",
       "11                                                  0               (13*2)=26  "
      ]
     },
     "execution_count": 9,
     "metadata": {},
     "output_type": "execute_result"
    }
   ],
   "source": [
    "# Displaying the data\n",
    "import pandas as pd\n",
    "ECT=pd.read_csv('error_correction_table.csv')\n",
    "ECT.head(12)"
   ]
  },
  {
   "cell_type": "code",
   "execution_count": 10,
   "metadata": {},
   "outputs": [
    {
     "name": "stdout",
     "output_type": "stream",
     "text": [
      "Total Codeword for version: 1 and Error correction level: 0 is 19\n",
      "Encoded data: 00100000100001010000101001000000001100111000110111010001001111101000100111000111001111011001100000111000000000001110110000010001111011000001000111101100\n",
      "Length of encoded data: 152 bits\n",
      "No. of bits required for this version: 152 bits\n"
     ]
    }
   ],
   "source": [
    "codeWord,ErrorBlock,nb1,wnb1,nb2,wnb2=ECT.iloc[4*version+ECL,1:7]\n",
    "print('Total Codeword for version: {} and Error correction level: {} is {}'.format(version+1,ECL,codeWord))\n",
    "combined_data=mode_indicator+character_count+data\n",
    "l=len(combined_data)\n",
    "if codeWord*8-4<=l<codeWord*8:\n",
    "    combined_data+=''.zfill(codeWord*8-l)\n",
    "else:\n",
    "    combined_data+=''.zfill(4)\n",
    "l=len(combined_data)\n",
    "if l!=codeWord*8:\n",
    "    if l%8!=0:\n",
    "        combined_data=combined_data+''.zfill(8-l%8)\n",
    "    l=len(combined_data)\n",
    "    padding=['11101100','00010001']\n",
    "    for i in range(codeWord):\n",
    "        if len(combined_data)==8*codeWord:\n",
    "            break\n",
    "        combined_data=combined_data+padding[i%2]\n",
    "print('Encoded data: {}\\nLength of encoded data: {} bits\\nNo. of bits required for this version: {} bits'.format(\n",
    "    combined_data,len(combined_data),codeWord*8))"
   ]
  },
  {
   "cell_type": "markdown",
   "metadata": {},
   "source": [
    "# Error Correction Coding"
   ]
  },
  {
   "cell_type": "markdown",
   "metadata": {},
   "source": [
    "## Step 1: Break Data Codewords into Blocks if Necessary\n",
    "Divide the codeword in small blocks of 8 bits."
   ]
  },
  {
   "cell_type": "code",
   "execution_count": 11,
   "metadata": {},
   "outputs": [
    {
     "name": "stdout",
     "output_type": "stream",
     "text": [
      "8 bit blocks are: [32, 133, 10, 64, 51, 141, 209, 62, 137, 199, 61, 152, 56, 0, 236, 17, 236, 17, 236]\n"
     ]
    }
   ],
   "source": [
    "codeblocks=[int(combined_data[i:i+8],base=2) for i in range(0,len(combined_data),8)]\n",
    "print('8 bit blocks are: {}'.format(codeblocks))"
   ]
  },
  {
   "cell_type": "markdown",
   "metadata": {},
   "source": [
    "The error correction table mentions \"group 1\" and \"group 2\", as well as \"number of blocks.\" This means that the data codewords must be split up into up to two groups, and within each group, the data codewords may be further broken up into blocks. The data codewords are broken up sequentially."
   ]
  },
  {
   "cell_type": "code",
   "execution_count": 12,
   "metadata": {},
   "outputs": [
    {
     "name": "stdout",
     "output_type": "stream",
     "text": [
      "Groups divided into blocks:\n",
      "\n",
      "[32, 133, 10, 64, 51, 141, 209, 62, 137, 199, 61, 152, 56, 0, 236, 17, 236, 17, 236]\n"
     ]
    }
   ],
   "source": [
    "block_groups,count=[],0\n",
    "for i in range(nb1):\n",
    "    block_groups.append(codeblocks[count:count+wnb1])\n",
    "    count+=wnb1\n",
    "for i in range(nb2):\n",
    "    block_groups.append(codeblocks[count:count+wnb2])\n",
    "    count+=wnb2\n",
    "print('Groups divided into blocks:\\n')\n",
    "for i in block_groups:\n",
    "    print(i)"
   ]
  },
  {
   "cell_type": "markdown",
   "metadata": {},
   "source": [
    "## Understand Galois Field Arithmetic\n",
    "1. Addition:  \n",
    "GF(256) contains the numbers 0 through 255 inclusive. Mathematical operations in GF(256) are cyclical in nature, meaning that if a mathematical operation is performed within GF(256) that results in a number larger than 255, it will be necessary to use the modulo operation to get a number that is still in the Galois Field. Addition and subtraction in the Galois Field are performed by doing the addition or subtraction as normal, but then performing the modulo operation and **this is the same as performing the XOR operation.**\n",
    "* Generate Powers of 2 using Byte-Wise Modulo 100011101(285):  \n",
    "All numbers in GF(256) can be represented as 2 , where 0 <= n <= 255. The QR code specification says to use byte-wise modulo 100011101 arithmetic (where 100011101 is a binary number that is equivalent to 285 in decimal). This means that **when a number is 256 or larger, it should be XORed with 285.** Because all of the values can be represented with 2 as explained above, it is possible to logs and antilogs to simplify multiplication in GF(256).\n",
    "* Understanding The Generator Polynomial:  \n",
    "The message polynomial will be divided by a generator polynomial. The generator polynomial is a polynomial that is created by multiplying $(x-\\alpha)\\dots(x-\\alpha^{n-1})$ where n is the number of error correction codewords that must be generated. As mentioned in the previous section, $\\alpha$ is equal to 2. When the Exponents are Greater than or Equal to 256, in this case, **apply modulo 255 BEFORE combining like terms.** For example:\n",
    "$$\n",
    "\\alpha^{258}x = \\alpha^{\\text{258%255}}x = \\alpha^{3}x\n",
    "$$\n",
    "* Generating Error Correction Codewords:  \n",
    "For each block group, the coefficients represent a message polynomial. From the version and error correction level (ECL) value, **find the number of error codeblocks needed.** To make sure that the exponent of the lead term of message polynomial doesn't become too small during the division, **multiply the message polynomial by $x^n$ where $n$ is the number of error correction codewords that are needed and divide it with generator polynomial, to find the remainder polynomial whose coefficients becomes error codewords.**"
   ]
  },
  {
   "cell_type": "code",
   "execution_count": 13,
   "metadata": {},
   "outputs": [
    {
     "name": "stdout",
     "output_type": "stream",
     "text": [
      "Error codeblocks generated are:\n",
      "Error codeblock no. 0:[185, 124, 144, 161, 124, 15, 6]\n"
     ]
    }
   ],
   "source": [
    "def log_function():\n",
    "    a=[1]\n",
    "    for i in range(1,256):\n",
    "        a.append(a[i-1]*2)\n",
    "        if a[i]>255:\n",
    "            a[i]^=285\n",
    "    return a\n",
    "log=log_function()\n",
    "def anti_log_function(log):\n",
    "    a=[None]\n",
    "    for i in range(1,256):\n",
    "        a.append(log.index(i))\n",
    "    return a\n",
    "anti_log=anti_log_function(log)\n",
    "def mul(x,y,log=log,anti_log=anti_log):\n",
    "    if x==0 or y==0:\n",
    "        return 0\n",
    "    return log[(anti_log[x]+anti_log[y])%255]\n",
    "def add(x,y):\n",
    "    return x^y\n",
    "def generator_function(eb,log=log,anti_log=anti_log):\n",
    "    gen_poly=[1,1]\n",
    "    for i in range(1,eb):\n",
    "        temp=mul(gen_poly[-1],log[i])\n",
    "        for j in range(i,0,-1):\n",
    "            gen_poly[j]=add(mul(gen_poly[j],1),mul(gen_poly[j-1],log[i]))\n",
    "        gen_poly.append(temp)\n",
    "    return gen_poly\n",
    "def poly_divide(msg,gen):\n",
    "    gen_len=len(gen)\n",
    "    msg_len=len(msg)\n",
    "    msg.extend([0]*(gen_len-1))\n",
    "    for k in range(msg_len):\n",
    "        multiple=[mul(gen[i],msg[0]) for i in range(gen_len)]\n",
    "        for i in range(gen_len):\n",
    "            msg[i]=msg[i]^multiple[i]\n",
    "        msg.remove(0)\n",
    "    return msg\n",
    "# poly_divide()\n",
    "genrator_poly=generator_function(ErrorBlock)\n",
    "error_block_groups=[]\n",
    "for i in block_groups:\n",
    "    bg=i.copy()\n",
    "    error_block_groups.append(poly_divide(bg,genrator_poly))\n",
    "print('Error codeblocks generated are:')\n",
    "for i,j in enumerate(error_block_groups):\n",
    "    print('Error codeblock no. {}:{}'.format(i,j))"
   ]
  },
  {
   "cell_type": "markdown",
   "metadata": {},
   "source": [
    "# Structure Final Message"
   ]
  },
  {
   "cell_type": "markdown",
   "metadata": {},
   "source": [
    "## Interleave the Blocks\n",
    "The blocks are interleaved by doing the following:\n",
    "1. take the first data codeword from the first block\n",
    "2. followed by the first data codeword from the second block\n",
    "3. followed by the first data codeword from the third block\n",
    "4. followed by the first data codeword from the fourth block\n",
    "5. followed by the second data codeword from the first block\n",
    "6. and so on  \n",
    "\n",
    "This pattern is repeated, going across the blocks, until all of the data codewords have been\n",
    "interleaved.  \n",
    "\n",
    "After that, do the following:\n",
    "1. take the first error correction codeword from the first block\n",
    "2. followed by the first error correction codeword from the second block\n",
    "3. followed by the first error correction codeword from the third block\n",
    "4. followed by the first error correction codeword from the fourth block\n",
    "5. followed by the second error correction codeword from the first block\n",
    "6. and so on\n",
    "Do this until all error correction codewords have been used up.  \n",
    "**Put Interleaved Error Correction Codewords After Interleaved Data Codewords.** The final message consists of the interleaved data codewords followed by the interleaved error correction codewords.\n",
    "\n",
    "## Add Remainder Bits if Necessary\n",
    "For some QR versions, the final binary message is not long enough to fill the required number of bits.\n",
    "In this case, it is necessary to add a certain number of 0s to the end of the final message to make it\n",
    "have the correct length. These extra 0s are called remainder bits."
   ]
  },
  {
   "cell_type": "code",
   "execution_count": 14,
   "metadata": {},
   "outputs": [
    {
     "name": "stdout",
     "output_type": "stream",
     "text": [
      "Final message after interleaving (in blocks of 8 bits): \n",
      " [32, 133, 10, 64, 51, 141, 209, 62, 137, 199, 61, 152, 56, 0, 236, 17, 236, 17, 236, 185, 124, 144, 161, 124, 15, 6]\n",
      "Final message before remainder bits:\n",
      "0010000010000101000010100100000000110011100011011101000100111110100010011100011100111101100110000011100000000000111011000001000111101100000100011110110010111001011111001001000010100001011111000000111100000110\n",
      "Final message after remainder bits:\n",
      "0010000010000101000010100100000000110011100011011101000100111110100010011100011100111101100110000011100000000000111011000001000111101100000100011110110010111001011111001001000010100001011111000000111100000110\n"
     ]
    }
   ],
   "source": [
    "last_ind=max(wnb1,wnb2)\n",
    "final_msg=[]\n",
    "for i in range(last_ind):\n",
    "    for j in block_groups:\n",
    "        try:\n",
    "            final_msg.append(j[i])\n",
    "        except:\n",
    "            continue\n",
    "for i in range(ErrorBlock):\n",
    "    for j in error_block_groups:\n",
    "        try:\n",
    "            final_msg.append(j[i])\n",
    "        except:\n",
    "            continue\n",
    "print('Final message after interleaving (in blocks of 8 bits): \\n',final_msg)\n",
    "final_msg_string=''\n",
    "for i in final_msg:\n",
    "    final_msg_string+=bin(i)[2:].zfill(8)\n",
    "print('Final message before remainder bits:')\n",
    "print(final_msg_string)\n",
    "# Adding remainder bits\n",
    "remainder_bits=(0,7,7,7,7,7,0,0,0,0,0,0,0,3,3,3,3,3,3,3,4,4,4,4,4,4,4,3,3,3,3,3,3,3,0,0,0,0,0,0)\n",
    "final_msg_string+=''.zfill(remainder_bits[version])\n",
    "print('Final message after remainder bits:')\n",
    "print(final_msg_string)"
   ]
  },
  {
   "cell_type": "markdown",
   "metadata": {},
   "source": [
    "# Module Placement in Matrix"
   ]
  },
  {
   "cell_type": "markdown",
   "metadata": {},
   "source": [
    "Follow the below steps:\n",
    "1. Add Finder pattern, alignment pattern, separators, timing pattern and dark module as shown in the figure.  \n",
    "**Note: Alignment pattern are at fixed locations in QR and should not overlap with FInder pattern.**\n",
    "![basic qr](./images/basic_qr.png)\n",
    "2. If QR version is more than 6, than versio information area should also be reserved.\n",
    "\n",
    "**About version information:**\n",
    "1. Version information is represents information about version of QR.\n",
    "* It is 18 bits long and represented in QR at 2 positions respectively as shown in the figure.\n",
    "![version information](./images/version_information.png)\n",
    "* Since all QR version 7 and above have version information string, so total of 34 version string exists depending on the version which is also hard coded below.\n",
    "* **Note, that 17th bit is the MSB and 0th bit is the LSB.**"
   ]
  },
  {
   "cell_type": "code",
   "execution_count": 15,
   "metadata": {},
   "outputs": [
    {
     "data": {
      "image/png": "[encoded data removed]",
      "text/plain": [
       "<matplotlib.figure.Figure at 0xb7fa040f60>"
      ]
     },
     "metadata": {},
     "output_type": "display_data"
    }
   ],
   "source": [
    "import matplotlib.pyplot as plt\n",
    "size=4*version+21\n",
    "qr=128*np.ones((size,size),dtype=np.uint8)\n",
    "\n",
    "# Applying finder pattern\n",
    "finder_pattern=np.array([\n",
    "    [0,0,0,0,0,0,0,255],\n",
    "    [0,255,255,255,255,255,0,255],\n",
    "    [0,255,0,0,0,255,0,255],\n",
    "    [0,255,0,0,0,255,0,255],\n",
    "    [0,255,0,0,0,255,0,255],\n",
    "    [0,255,255,255,255,255,0,255],\n",
    "    [0,0,0,0,0,0,0,255],\n",
    "    [255,255,255,255,255,255,255,255]\n",
    "],dtype=np.uint8)\n",
    "qr[0:8,0:8]=finder_pattern\n",
    "qr[size-8:,0:8]=finder_pattern[::-1,:]\n",
    "qr[0:8,size-8:]=finder_pattern[:,::-1]\n",
    "\n",
    "# Adding alignment pattern\n",
    "alignment_pattern=np.array([\n",
    "    [0,0,0,0,0],\n",
    "    [0,255,255,255,0],\n",
    "    [0,255,0,255,0],\n",
    "    [0,255,255,255,0],\n",
    "    [0,0,0,0,0]\n",
    "],dtype=np.uint8)\n",
    "alignment_loc={0:(),1:(6,18),2:(6,22),3:(6,26),4:(6,30),5:(6,34),6:(6,22,38),7:(6,24,42),8:(6,26,46),9:(6,28,50)}\n",
    "a=[(i,j) for i in alignment_loc[version] for j in alignment_loc[version]]\n",
    "for x,y in a:\n",
    "    if 0 in qr[x-2:x+3,y-2:y+3]:\n",
    "        continue\n",
    "    qr[x-2:x+3,y-2:y+3]=alignment_pattern\n",
    "\n",
    "# Adding timing pattern\n",
    "for i in range(8,size-8):\n",
    "    qr[6,i]=255*(i%2)\n",
    "    qr[i,6]=255*(i%2)\n",
    "    \n",
    "# Adding dark module\n",
    "qr[size-8,8]=0\n",
    "\n",
    "# Adding format information reserved area\n",
    "qr[8,np.where(qr[8,0:9]==128)[0]]=64\n",
    "qr[8,size-8+np.where(qr[8,size-8:]==128)[0]]=64\n",
    "qr[size-8+np.where(qr[size-8:,8]==128)[0],8]=64\n",
    "qr[np.where(qr[0:9,8]==128)[0],8]=64\n",
    "            \n",
    "# Adding version information\n",
    "if version>=6:\n",
    "    version_area=['000111110010010100','001000010110111100','001001101010011001','001010010011010011',\n",
    "              '001011101111110110','001100011101100010','001101100001000111','001110011000001101',\n",
    "              '001111100100101000','010000101101111000','010001010001011101','010010101000010111',\n",
    "              '010011010100110010','010100100110100110','010101011010000011','010110100011001001',\n",
    "              '010111011111101100','011000111011000100','011001000111100001','011010111110101011',\n",
    "              '011011000010001110','011100110000011010','011101001100111111','011110110101110101',\n",
    "              '011111001001010000','100000100111010101','100001011011110000','100010100010111010',\n",
    "              '100011011110011111','100100101100001011','100101010000101110','100110101001100100',\n",
    "              '100111010101000001','101000110001101001']\n",
    "    version_info=version_area[version-6]\n",
    "    temp=[255*(ord(version_info[i])-48) for i in range(17,-1,-1)]\n",
    "    version_mat=np.array(temp,dtype=np.uint8)\n",
    "    qr[size-11:size-8,0:6]=version_mat.reshape(3,6)\n",
    "    qr[0:6,size-11:size-8]=version_mat.reshape(6,3)\n",
    "    \n",
    "mask_arr=qr\n",
    "fig,ax=plt.subplots(1,1,figsize=(6,6))\n",
    "ax.imshow(qr,cmap='gray')\n",
    "plt.title('QR without format information')\n",
    "plt.show()"
   ]
  },
  {
   "cell_type": "markdown",
   "metadata": {},
   "source": [
    "# Inserting format information, data bits and applying masking"
   ]
  },
  {
   "cell_type": "markdown",
   "metadata": {},
   "source": [
    "**About Format information:**\n",
    "1. Format information contains information about error crrection levelused and also the mask pattern used.\n",
    "* Since there are 4 error correction level and 8 mask levels, so total 32 combinations of the format string exist which is hard-coded below.\n",
    "* It is 15 bits long and is written twice in QR at following positions as shown in the figure.\n",
    "![format information](./images/format_information.png)\n",
    "* The 15 bits of information is divided into 5 data bits and 10 error correction bits from reed soloman algorithm.\n",
    "* The data bits include error correction information which is represented in 2 bits and mask information in 3 bits.\n",
    "* **Note, that 14th bit is the MSB and 0th bit is the LSB.**\n",
    "\n",
    "\n",
    "3. Place the data bits as follows:\n",
    "![data placement](./images/data_placement.png)\n",
    "**Note: When a function pattern is encountered, skip any occupied modules until you reach the next unused module. The vertical timing pattern is the only exception to this rule. When the vertical timing pattern is reached, always start the next column to the left of it. No column should ever overlap the vertical timing pattern.**\n",
    "\n",
    "## Note, 0 corresponds to a white pixel and 1 corresponds to a black pixel.\n",
    "\n",
    "## Masking:\n",
    "**Note: \n",
    "1. Masking is done only on data bits, not on the regions reserved for finder pattern, alignment pattern, timing pattern, dark module, format information, and version information.  \n",
    "* There are total of 8 masking patterns and each with a corresponding mask number.\n",
    "* Also, note that row and column numbering starts top-left with coordinates (0,0) and likewise bottom-right has coordinates (20,20) for version 1.\n",
    "\n",
    "| Mask Number | If the formula below is true for a given row/column coordinate, switch the bit at that coordinate |\n",
    "| :-: | :-: |\n",
    "| 0 | $(row + column) \\% 2 == 0$ |\n",
    "| 1 | $(row) \\% 2 == 0$ |\n",
    "| 2 | $(column) \\% 3 == 0$ |\n",
    "| 3 | $(row + column) \\% 3 == 0$ |\n",
    "| 4 | $( floor(row / 2) + floor(column / 3) ) \\% 2 == 0$ |\n",
    "| 5 | $((row * column) \\% 2) + ((row * column) \\% 3) == 0$ |\n",
    "| 6 | $( ((row * column) \\% 2) + ((row * column) \\% 3) ) \\% 2 == 0$ |\n",
    "| 7 | $( ((row + column) \\% 2) + ((row * column) \\% 3) ) \\% 2 == 0$ |"
   ]
  },
  {
   "cell_type": "code",
   "execution_count": 16,
   "metadata": {
    "scrolled": false
   },
   "outputs": [
    {
     "data": {
      "image/png": "[encoded data removed]",
      "text/plain": [
       "<matplotlib.figure.Figure at 0xb7ffa9d518>"
      ]
     },
     "metadata": {},
     "output_type": "display_data"
    }
   ],
   "source": [
    "# Adding Format information\n",
    "format_area=['111011111000100','111001011110011','111110110101010','111100010011101',\n",
    "'110011000101111','110001100011000','110110001000001','110100101110110','101010000010010','101000100100101',\n",
    "'101111001111100','101101101001011','100010111111001','100000011001110','100111110010111','100101010100000',\n",
    "'011010101011111','011000001101000','011111100110001','011101000000110','010010010110100','010000110000011',\n",
    "'010111011011010','010101111101101','001011010001001','001001110111110','001110011100111','001100111010000',\n",
    "'000011101100010','000001001010101','000110100001100','000100000111011']\n",
    "\n",
    "# This function defines all the mask patterns.\n",
    "# Also instead of mapping 0 to white and 1 to black,\n",
    "# I have flipped the output of the mask, which also gives same result.\n",
    "def mask_function(mask,row,col):\n",
    "    if mask==0:\n",
    "        return (1,0)[(row+col)%2==0]\n",
    "    if mask==1:\n",
    "        return (1,0)[row%2==0]\n",
    "    if mask==2:\n",
    "        return (1,0)[col%3==0]\n",
    "    if mask==3:\n",
    "        return (1,0)[(row+col)%3==0]\n",
    "    if mask==4:\n",
    "        return (1,0)[(row//2+col//3)%2==0]\n",
    "    if mask==5:\n",
    "        return (1,0)[(row*col)%2+(row*col)%3==0]\n",
    "    if mask==6:\n",
    "        return (1,0)[((row*col)%2+(row*col)%3)%2==0]\n",
    "    if mask==7:\n",
    "        return (1,0)[((row+col)%2+(row*col)%3)%2==0]\n",
    "\n",
    "qr_arr=np.zeros((size,size,8),dtype=np.uint8)\n",
    "fig,ax=plt.subplots(2,4,figsize=(20,10))\n",
    "plt.title(\"All 8 QR codes according to masks\")\n",
    "for mask in range(8):\n",
    "    qr=np.copy(mask_arr)\n",
    "    temp=[255*(1^(ord(format_area[8*ECL+mask][i])-48)) for i in range(0,7)]\n",
    "    qr[8,np.where(qr[8,0:8]==64)[0]]=temp\n",
    "    qr[size-1-np.where(qr[size:size-8:-1,8]==64)[0],8]=temp\n",
    "    temp=[255*(1^(ord(format_area[8*ECL+mask][i])-48)) for i in range(7,15)]\n",
    "    qr[8,size-8+np.where(qr[8,size-8:]==64)[0]]=temp\n",
    "    qr[np.where(qr[0:9,8]==64)[0][::-1],8]=temp\n",
    "    \n",
    "    # Adding final message\n",
    "    x,y,count,ind=size-1,size-1,-1,0\n",
    "    for i in range(625):\n",
    "        if qr[x,y]==128:\n",
    "            qr[x,y]=255*(mask_function(mask,x,y)^(ord(final_msg_string[ind])-48))\n",
    "            ind+=1\n",
    "        if qr[x,y-1]==128:\n",
    "            qr[x,y-1]=255*(mask_function(mask,x,y-1)^(ord(final_msg_string[ind])-48))\n",
    "            ind+=1\n",
    "        x+=count\n",
    "        if x==-1 or x==size:\n",
    "            count*=-1\n",
    "            x+=count\n",
    "            if y==8:\n",
    "                y-=3\n",
    "            else:\n",
    "                y-=2\n",
    "            if ind==len(final_msg_string):\n",
    "                assert y==-1\n",
    "                break\n",
    "    qr_arr[:,:,mask]=qr\n",
    "    ax[mask//4,mask%4].set_title('{}'.format(mask))\n",
    "    ax[mask//4,mask%4].imshow(qr,cmap='gray')\n",
    "plt.show()"
   ]
  },
  {
   "cell_type": "markdown",
   "metadata": {},
   "source": [
    "# Penalty evaluation on masked QR.\n",
    "After a mask pattern has been applied to the QR matrix, **it is given a penalty score based on four evaluation conditions that are defined in the QR code specification.** A QR code encoder must apply all eight mask patterns and evaluate penalty for each one. **Whichever mask pattern results in the lowest penalty score is the mask pattern that must be used for the final output.**\n",
    "\n",
    "**The 4 penalty rules can be summerised as:**  \n",
    "1. The first rule gives the QR code a penalty for each group of five or more same-colored modules in a row (or column).\n",
    "* The second rule gives the QR code a penalty for each 2x2 area of same-colored modules in the matrix.\n",
    "* The third rule gives the QR code a large penalty if there are patterns that look similar to the finder patterns.\n",
    "* The fourth rule gives the QR code a penalty if more than half of the modules are dark or light, with a larger penalty for a larger difference.\n",
    "\n",
    "**Evaluation Condition number 1:**  \n",
    "For the first evaluation condition, check each row one-by-one and then column-by-column. If there are five consecutive modules of the same color, add 3 to the penalty. If there are more modules of the same color after the first five, add 1 for each additional module of the same color.\n",
    "\n",
    "**Evaluation Condition number 2:**  \n",
    "Look for all 2x2 areas of the same color inside QR and for each occurance add penalty of 3.\n",
    "\n",
    "**Evaluation Condition number 3:**  \n",
    "Look for the following pattern and add a penalty of 40 for each occourance.\n",
    "\n",
    "![evaluation pattern](./images/pattern.png)\n",
    "\n",
    "**Evaluation Condition number 4:**  \n",
    "The final evaluation condition is based on the ratio of light modules to dark modules. To calculate this penalty rule, do the following steps:\n",
    "1. Count the total number of modules in the matrix.\n",
    "* Count how many dark modules there are in the matrix.\n",
    "* Calculate the percent of modules in the matrix that are dark: (darkmodules / totalmodules) * 100\n",
    "* Determine the previous and next multiple of five of this percent. For example, for 43 percent, the previous multiple of five is 40, and the next multiple of five is 45.\n",
    "* Subtract 50 from each of these multiples of five and take the absolute value of the result. For example, |40 - 50| = |-10| = 10 and |45 - 50| = |-5| = 5.\n",
    "* Divide each of these by five. For example, 10/5 = 2 and 5/5 = 1.\n",
    "* Finally, take the smallest of the two numbers and multiply it by 10. In this example, the lower number is 1, so the result is 10. This is penalty score number 4.\n",
    "\n",
    "For the entire QR code add all 4 penalties and the QR with least penalties is the optimised QR code for corresponding data."
   ]
  },
  {
   "cell_type": "code",
   "execution_count": 17,
   "metadata": {
    "collapsed": true
   },
   "outputs": [],
   "source": [
    "def penalty_evaluation(qr):\n",
    "    penalty,prev_penalty=0,False\n",
    "    pattern1=[0,0,0,0,0]\n",
    "    pattern2=[255,255,255,255,255]\n",
    "    pattern3=[[0,0],[0,0]]\n",
    "    pattern4=[[255,255],[255,255]]\n",
    "    pattern5=[0,255,0,0,0,255,0,255,255,255,255]\n",
    "    pattern6=[255,255,255,255,0,255,0,0,0,255,0]\n",
    "    for j in range(size):\n",
    "        for i in range(size):\n",
    "            if i<=size-5 and (pattern_match(qr[i:i+5,j],pattern1)):\n",
    "                if prev_penalty==False:\n",
    "                    penalty+=3\n",
    "                    prev_penalty=True\n",
    "                else:\n",
    "                    penalty+=1\n",
    "            else:\n",
    "                prev_penalty=False\n",
    "    prev_penalty=False\n",
    "    for i in range(size):\n",
    "        for j in range(size):\n",
    "            if j<=size-5 and (pattern_match(qr[i,j:j+5],pattern1) or pattern_match(qr[i,j:j+5],pattern2)):\n",
    "                if prev_penalty==False:\n",
    "                    penalty+=3\n",
    "                    prev_penalty=True\n",
    "                else:\n",
    "                    penalty+=1\n",
    "            else:\n",
    "                prev_penalty=False\n",
    "            if i<=size-2 and j<=size-2 and pattern_match(qr[i:i+2,j:j+2],pattern3):\n",
    "                penalty+=3\n",
    "            if i<=size-2 and j<=size-2 and pattern_match(qr[i:i+2,j:j+2],pattern4):\n",
    "                penalty+=3\n",
    "            if i<=size-11 and pattern_match(qr[i:i+11,j],pattern5):\n",
    "                penalty+=40\n",
    "            if i<=size-11 and pattern_match(qr[i:i+11,j],pattern6):\n",
    "                penalty+=40\n",
    "            if j<=size-11 and pattern_match(qr[i,j:j+11],pattern5):\n",
    "                penalty+=4\n",
    "            if j<=size-11 and pattern_match(qr[i,j:j+11],pattern6):\n",
    "                penalty+=40\n",
    "                \n",
    "    uni,cnt=np.unique(qr,return_counts=True)\n",
    "    frequency=dict(zip(uni,cnt))\n",
    "    dark_percent=frequency[0]/(size*size)\n",
    "    penalty+=int(2*min(abs(5*(dark_percent//5)-50),abs(5*(dark_percent//5+1)-50)))\n",
    "    return penalty\n",
    "\n",
    "def pattern_match(array,pattern):\n",
    "    return (array==pattern).all()"
   ]
  },
  {
   "cell_type": "code",
   "execution_count": 18,
   "metadata": {},
   "outputs": [
    {
     "name": "stdout",
     "output_type": "stream",
     "text": [
      "Mask and its corresponding penalties are: {0: 406, 1: 416, 2: 372, 3: 369, 4: 492, 5: 421, 6: 419, 7: 413}\n"
     ]
    }
   ],
   "source": [
    "penalty_lst=[]\n",
    "for mask in range(8):\n",
    "    penalty_lst.append(penalty_evaluation(qr_arr[:,:,mask]))\n",
    "print(\"Mask and its corresponding penalties are: {}\".format(dict(zip(range(8),penalty_lst))))"
   ]
  },
  {
   "cell_type": "markdown",
   "metadata": {},
   "source": [
    "# Displaying the least penalty QR code"
   ]
  },
  {
   "cell_type": "code",
   "execution_count": 19,
   "metadata": {},
   "outputs": [
    {
     "data": {
      "image/png": "[encoded data removed]",
      "text/plain": [
       "<matplotlib.figure.Figure at 0xb7fed73128>"
      ]
     },
     "metadata": {},
     "output_type": "display_data"
    }
   ],
   "source": [
    "ind=penalty_lst.index(min(penalty_lst))\n",
    "fig,ax=plt.subplots(1,1,figsize=(6,6))\n",
    "ax.imshow(qr_arr[:,:,ind],cmap='gray')\n",
    "plt.show()"
   ]
  },
  {
   "cell_type": "markdown",
   "metadata": {},
   "source": [
    "# Displaying all essential variables"
   ]
  },
  {
   "cell_type": "code",
   "execution_count": 20,
   "metadata": {
    "scrolled": false
   },
   "outputs": [
    {
     "name": "stdout",
     "output_type": "stream",
     "text": [
      "0 1 0 \n",
      "\n",
      "0010 000010000 1010000101001000000001100111000110111010001001111101000100111000111001111011001100000111 \n",
      "\n",
      "00100000100001010000101001000000001100111000110111010001001111101000100111000111001111011001100000111000000000001110110000010001111011000001000111101100 \n",
      "\n",
      "[32, 133, 10, 64, 51, 141, 209, 62, 137, 199, 61, 152, 56, 0, 236, 17, 236, 17, 236] \n",
      "\n",
      "Codeblock no. 0:[32, 133, 10, 64, 51, 141, 209, 62, 137, 199, 61, 152, 56, 0, 236, 17, 236, 17, 236]\n",
      "Error codeblock no. 0:[185, 124, 144, 161, 124, 15, 6]\n",
      "\n",
      " 19 7 1 19 0 0 \n",
      "\n",
      "0010000010000101000010100100000000110011100011011101000100111110100010011100011100111101100110000011100000000000111011000001000111101100000100011110110010111001011111001001000010100001011111000000111100000110 \n",
      "\n"
     ]
    }
   ],
   "source": [
    "# Displaying all results\n",
    "print(version,mode,ECL,'\\n')\n",
    "print(mode_indicator,character_count,data,'\\n')\n",
    "print(combined_data,'\\n')\n",
    "print(codeblocks,'\\n')\n",
    "for i,j in enumerate(block_groups):\n",
    "    print('Codeblock no. {}:{}'.format(i,j))\n",
    "for i,j in enumerate(error_block_groups):\n",
    "    print('Error codeblock no. {}:{}'.format(i,j))\n",
    "print('\\n',codeWord,ErrorBlock,nb1,wnb1,nb2,wnb2,'\\n')\n",
    "print(final_msg_string,'\\n')"
   ]
  },
  {
   "cell_type": "code",
   "execution_count": null,
   "metadata": {
    "collapsed": true
   },
   "outputs": [],
   "source": []
  }
 ],
 "metadata": {
  "kernelspec": {
   "display_name": "Python 3",
   "language": "python",
   "name": "python3"
  },
  "language_info": {
   "codemirror_mode": {
    "name": "ipython",
    "version": 3
   },
   "file_extension": ".py",
   "mimetype": "text/x-python",
   "name": "python",
   "nbconvert_exporter": "python",
   "pygments_lexer": "ipython3",
   "version": "3.6.1"
  }
 },
 "nbformat": 4,
 "nbformat_minor": 2
}
