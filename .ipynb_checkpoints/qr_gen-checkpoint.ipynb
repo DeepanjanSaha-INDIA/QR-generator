{
 "cells": [
  {
   "cell_type": "markdown",
   "metadata": {},
   "source": [
    "# About QR\n",
    "**QR stands for (quick response)**. The smallest QR codes are 21x21 pixels, and the largest are 177x177. The sizes are called versions. **The 21x21 pixel size is version 1, 25x25 is version 2, and so on. The 177x177 size is version 40.**\n",
    "\n",
    "In addition, **QR codes include error correction: when you encode the QR code, you also create some redundant data that will help a QR reader accurately read the code even if part of it is unreadable.** There are four levels of error correction that you can choose from:\n",
    "1. The lowest is L, which allows the code to be read even if 7% of it is unreadable. \n",
    "* After that is M, which provides 15% error correction, \n",
    "* then Q, which provides 25%,\n",
    "* finally H, which provides 30%.\n",
    "\n",
    "The capacity of a given QR code depends on the version and error correction level, as well as on the type of data that you are encoding. **There are four data modes that a QR code can encode: numeric, alphanumeric, binary, or Kanji.**"
   ]
  },
  {
   "cell_type": "markdown",
   "metadata": {},
   "source": [
    "# The QR Code Modes\n",
    "This tutorial considers only 2 modes i.e, **Numeric mode and Alphanumeric mode.**\n",
    "1. **Numeric mode** is for decimal digits 0 through 9.\n",
    "2. **Alphanumeric mode** is for the decimal digits 0 through 9, as well as uppercase letters (not lowercase!), and the symbols `$, %, *, +, -, ., /, and :` as well as a space."
   ]
  },
  {
   "cell_type": "markdown",
   "metadata": {},
   "source": [
    "# Data Encoding"
   ]
  },
  {
   "cell_type": "markdown",
   "metadata": {},
   "source": [
    "## Step 1: Choose the Error Correction Level\n",
    "QR codes use Reed-Solomon error correction. Error correction codewords can be used to correct those errors. There are four levels of error correction: L, M, Q, H.  \n",
    "\n",
    "| Error Correction Level | Error Correction Capability |\n",
    "| :---: | :---: |\n",
    "| L | Recovers 7% of data |\n",
    "| M | Recovers 15% of data |\n",
    "| Q | Recovers 25% of data |\n",
    "| H | Recovers 30% of data |"
   ]
  },
  {
   "cell_type": "code",
   "execution_count": 1,
   "metadata": {},
   "outputs": [
    {
     "name": "stdout",
     "output_type": "stream",
     "text": [
      "Enter the text to be encoded\n",
      "deepanjan saha\n",
      "Mode of encoding: ALPHANUMERIC\n",
      "Enter error correction level:\n",
      "0 for L (Low)\n",
      "1 for M (Medium)\n",
      "2 for Q\n",
      "3 for H (High)\n",
      "0\n",
      "MODE SELECTED: 1 and ERROR CORECTION LEVEL SELECTED: 0\n"
     ]
    }
   ],
   "source": [
    "import re\n",
    "text=input(\"Enter the text to be encoded\\n\")\n",
    "text=text.upper()\n",
    "alpha_lst=re.findall('\\D',text)\n",
    "if len(alpha_lst)>0:\n",
    "    print('Mode of encoding: ALPHANUMERIC')\n",
    "    mode=1\n",
    "else:\n",
    "    print('Mode of encoding: NUMERIC')\n",
    "    mode=0\n",
    "ECL=eval(input(\"\"\"Enter error correction level:\n",
    "0 for L (Low)\n",
    "1 for M (Medium)\n",
    "2 for Q\n",
    "3 for H (High)\\n\"\"\"))\n",
    "print(\"MODE SELECTED: {} and ERROR CORECTION LEVEL SELECTED: {}\".format(mode,ECL))"
   ]
  },
  {
   "cell_type": "markdown",
   "metadata": {},
   "source": [
    "## Step 2: Determine the Smallest Version for the Data\n",
    "Each version has a maximum capacity, depending on the mode in use. In addition, the error correction\n",
    "level restricts the capacity further.  \n",
    "[Link to Character Capacities by Version, Mode, and Error Correction](#Character-Capacities-by-Version,-Mode,-and-Error-Correction)"
   ]
  },
  {
   "cell_type": "markdown",
   "metadata": {},
   "source": [
    "# Character Capacities by Version, Mode, and Error Correction\n",
    "\n",
    "|version-> |1|2|3|4|5|6|7|8|9|10|11|12|13|14|15|16|17|18|19|20|21|22|23|24|25|26|27|28|29|30|31|32|33|34|35|36|37|38|39|40|\n",
    "|:-:|:-:|:-:|:-:|:-:|:-:|:-:|:-:|:-:|:-:|:-:|:-:|:-:|:-:|:-:|:-:|:-:|:-:|:-:|:-:|:-:|:-:|:-:|:-:|:-:|:-:|:-:|:-:|:-:|:-:|:-:|:-:|:-:|:-:|:-:|:-:|:-:|:-:|:-:|:-:|:-:|\n",
    "| Numeric mode (L) | 41 | 77 | 127 | 187 | 255 | 322 | 370 | 461 | 552 | 652 | 772 | 883 | 1022 | 1101 | 1250 | 1408 | 1548 | 1725 | 1903 | 2061 | 2232 | 2409 | 2620 | 2812 | 3057 | 3283 | 3517 | 3669 | 3909 | 4158 | 4417 | 4686 | 4965 | 5253 | 5529 | 5836 | 6153 | 6479 | 6743 | 7089 |\n",
    "| Numeric mode (M) | 34 | 63 | 101 | 149 | 202 | 255 | 293 | 365 | 432 | 513 | 604 | 691 | 796 | 871 | 991 | 1082 | 1212 | 1346 | 1500 | 1600 | 1708 | 1872 | 2059 | 2188 | 2395 | 2544 | 2701 | 2857 | 3035 | 3289 | 3486 | 3693 | 3909 | 4134 | 4343 | 4588 | 4775 | 5039 | 5313 | 5596 |\n",
    "| Numeric mode (Q) | 27 | 48 | 77 | 111 | 144 | 178 | 207 | 259 | 312 | 364 | 427 | 489 | 580 | 621 | 703 | 775 | 876 | 948 | 1063 | 1159 | 1224 | 1358 | 1468 | 1588 | 1718 | 1804 | 1933 | 2085 | 2181 | 2358 | 2473 | 2670 | 2805 | 2949 | 3081 | 3244 | 3417 | 3599 | 3791 | 3993 |\n",
    "| Numeric mode (H) | 17 | 34 | 58 | 82 | 106 | 139 | 154 | 202 | 235 | 288 | 331 | 374 | 427 | 468 | 530 | 602 | 674 | 746 | 813 | 919 | 969 | 1056 | 1108 | 1228 | 1286 | 1425 | 1501 | 1581 | 1677 | 1782 | 1897 | 2022 | 2157 | 2301 | 2361 | 2524 | 2625 | 2735 | 2927 | 3057 |\n",
    "| Alphanumeric Mode (L) | 25 | 47 | 77 | 114 | 154 | 195 | 224 | 279 | 335 | 395 | 468 | 535 | 619 | 667 | 758 | 854 | 938 | 1046 | 1153 | 1249 | 1352 | 1460 | 1588 | 1704 | 1853 | 1990 | 2132 | 2223 | 2369 | 2520 | 2677 | 2840 | 3009 | 3183 | 3351 | 3537 | 3729 | 3927 | 4087 | 4296 |\n",
    "| Alphanumeric Mode (H) | 20 | 38 | 61 | 90 | 122 | 154 | 178 | 221 | 262 | 311 | 366 | 419 | 483 | 528 | 600 | 656 | 734 | 816 | 909 | 970 | 1035 | 1134 | 1248 | 1326 | 1451 | 1542 | 1637 | 1732 | 1839 | 1994 | 2113 | 2238 | 2369 | 2506 | 2632 | 2780 | 2894 | 3054 | 3220 | 3391 |\n",
    "| Alphanumeric Mode (Q) | 16 | 29 | 47 | 67 | 87 | 108 | 125 | 157 | 189 | 221 | 259 | 296 | 352 | 376 | 426 | 470 | 531 | 574 | 644 | 702 | 742 | 823 | 890 | 963 | 1041 | 1094 | 1172 | 1263 | 1322 | 1429 | 1499 | 1618 | 1700 | 1787 | 1867 | 1966 | 2071 | 2181 | 2298 | 2420 |\n",
    "| Alphanumeric Mode (H) | 10 | 20 | 35 | 50 | 64 | 84 | 93 | 122 | 143 | 174 | 200 | 227 | 259 | 283 | 321 | 365 | 408 | 452 | 493 | 557 | 587 | 640 | 672 | 744 | 779 | 864 | 910 | 958 | 1016 | 1080 | 1150 | 1226 | 1307 | 1394 | 1431 | 1530 | 1591 | 1658 | 1774 | 1852 |\n",
    "| Byte Mode (L) | 17 | 32 | 53 | 78 | 106 | 134 | 154 | 192 | 230 | 271 | 321 | 367 | 425 | 458 | 520 | 586 | 644 | 718 | 792 | 858 | 929 | 1003 | 1091 | 1171 | 1273 | 1367 | 1465 | 1528 | 1628 | 1732 | 1840 | 1952 | 2068 | 2188 | 2303 | 2431 | 2563 | 2699 | 2809 | 2953 |\n",
    "| Byte Mode (M) | 14 | 26 | 42 | 62 | 84 | 106 | 122 | 152 | 180 | 213 | 251 | 287 | 331 | 362 | 412 | 450 | 504 | 560 | 624 | 666 | 711 | 779 | 857 | 911 | 997 | 1059 | 1125 | 1190 | 1264 | 1370 | 1452 | 1538 | 1628 | 1722 | 1809 | 1911 | 1989 | 2099 | 2213 | 2331 |\n",
    "| Byte Mode (Q) | 11 | 20 | 32 | 46 | 60 | 74 | 86 | 108 | 130 | 151 | 177 | 203 | 241 | 258 | 292 | 322 | 364 | 394 | 442 | 482 | 509 | 565 | 611 | 661 | 715 | 751 | 805 | 868 | 908 | 982 | 1030 | 1112 | 1168 | 1228 | 1283 | 1351 | 1423 | 1499 | 1579 | 1663 |\n",
    "| Byte Mode (H) | 7 | 14 | 24 | 34 | 44 | 58 | 64 | 84 | 98 | 119 | 137 | 155 | 177 | 194 | 220 | 250 | 280 | 310 | 338 | 382 | 403 | 439 | 461 | 511 | 535 | 593 | 625 | 658 | 698 | 742 | 790 | 842 | 898 | 958 | 983 | 1051 | 1093 | 1139 | 1219 | 1273 |\n",
    "| Kanji Mode (L) | 10 | 20 | 32 | 48 | 65 | 82 | 95 | 118 | 141 | 167 | 198 | 226 | 262 | 282 | 320 | 361 | 397 | 442 | 488 | 528 | 572 | 618 | 672 | 721 | 784 | 842 | 902 | 940 | 1002 | 1066 | 1132 | 1201 | 1273 | 1347 | 1417 | 1496 | 1577 | 1661 | 1729 | 1817 |\n",
    "| Kanji Mode (M) | 8 | 16 | 26 | 38 | 52 | 65 | 75 | 93 | 111 | 131 | 155 | 177 | 204 | 223 | 254 | 277 | 310 | 345 | 384 | 410 | 438 | 480 | 528 | 561 | 614 | 652 | 692 | 732 | 778 | 843 | 894 | 947 | 1002 | 1060 | 1113 | 1176 | 1224 | 1292 | 1362 | 1435 |\n",
    "| Kanji Mode (Q) | 7 | 12 | 20 | 28 | 37 | 45 | 53 | 66 | 80 | 93 | 109 | 125 | 149 | 159 | 180 | 198 | 224 | 243 | 272 | 297 | 314 | 348 | 376 | 407 | 440 | 462 | 496 | 534 | 559 | 604 | 634 | 684 | 719 | 756 | 790 | 832 | 876 | 923 | 972 | 1024 |\n",
    "| Kanji Mode (H) | 4 | 8 | 15 | 21 | 27 | 36 | 39 | 52 | 60 | 74 | 85 | 96 | 109 | 120 | 136 | 154 | 173 | 191 | 208 | 235 | 248 | 270 | 284 | 315 | 330 | 365 | 385 | 405 | 430 | 457 | 486 | 518 | 553 | 590 | 605 | 647 | 673 | 701 | 750 | 784 |\n"
   ]
  },
  {
   "cell_type": "code",
   "execution_count": 2,
   "metadata": {},
   "outputs": [
    {
     "name": "stdout",
     "output_type": "stream",
     "text": [
      "Selected version is: 0\n"
     ]
    }
   ],
   "source": [
    "import numpy as np\n",
    "raw_pdf_copied_string='''1 L 41 25 17 10\n",
    "M 34 20 14 8\n",
    "Q 27 16 11 7\n",
    "H 17 10 7 4\n",
    "2 L 77 47 32 20\n",
    "M 63 38 26 16\n",
    "Q 48 29 20 12\n",
    "H 34 20 14 8\n",
    "3 L 127 77 53 32\n",
    "M 101 61 42 26\n",
    "Q 77 47 32 20\n",
    "H 58 35 24 15\n",
    "4 L 187 114 78 48\n",
    "M 149 90 62 38\n",
    "Q 111 67 46 28\n",
    "H 82 50 34 21\n",
    "5 L 255 154 106 65\n",
    "M 202 122 84 52\n",
    "Q 144 87 60 37\n",
    "H 106 64 44 27\n",
    "6 L 322 195 134 82\n",
    "M 255 154 106 65\n",
    "Q 178 108 74 45\n",
    "H 139 84 58 36\n",
    "7 L 370 224 154 95\n",
    "M 293 178 122 75\n",
    "Q 207 125 86 53\n",
    "H 154 93 64 39\n",
    "8 L 461 279 192 118\n",
    "M 365 221 152 93\n",
    "Q 259 157 108 66\n",
    "H 202 122 84 52\n",
    "9 L 552 335 230 141\n",
    "M 432 262 180 111\n",
    "Q 312 189 130 80\n",
    "H 235 143 98 60\n",
    "10 L 652 395 271 167\n",
    "M 513 311 213 131\n",
    "Q 364 221 151 93\n",
    "H 288 174 119 74\n",
    "11 L 772 468 321 198\n",
    "M 604 366 251 155\n",
    "Q 427 259 177 109\n",
    "H 331 200 137 85\n",
    "12 L 883 535 367 226\n",
    "M 691 419 287 177\n",
    "Q 489 296 203 125\n",
    "H 374 227 155 96\n",
    "13 L 1022 619 425 262\n",
    "M 796 483 331 204\n",
    "Q 580 352 241 149\n",
    "H 427 259 177 109\n",
    "14 L 1101 667 458 282\n",
    "M 871 528 362 223\n",
    "Q 621 376 258 159\n",
    "H 468 283 194 120\n",
    "15 L 1250 758 520 320\n",
    "M 991 600 412 254\n",
    "Q 703 426 292 180\n",
    "H 530 321 220 136\n",
    "16 L 1408 854 586 361\n",
    "M 1082 656 450 277\n",
    "Q 775 470 322 198\n",
    "H 602 365 250 154\n",
    "17 L 1548 938 644 397\n",
    "M 1212 734 504 310\n",
    "Q 876 531 364 224\n",
    "H 674 408 280 173\n",
    "18 L 1725 1046 718 442\n",
    "M 1346 816 560 345\n",
    "Q 948 574 394 243\n",
    "H 746 452 310 191\n",
    "19 L 1903 1153 792 488\n",
    "M 1500 909 624 384\n",
    "Q 1063 644 442 272\n",
    "H 813 493 338 208\n",
    "20 L 2061 1249 858 528\n",
    "M 1600 970 666 410\n",
    "Q 1159 702 482 297\n",
    "H 919 557 382 235\n",
    "21 L 2232 1352 929 572\n",
    "M 1708 1035 711 438\n",
    "Q 1224 742 509 314\n",
    "H 969 587 403 248\n",
    "22 L 2409 1460 1003 618\n",
    "M 1872 1134 779 480\n",
    "Q 1358 823 565 348\n",
    "H 1056 640 439 270\n",
    "23 L 2620 1588 1091 672\n",
    "M 2059 1248 857 528\n",
    "Q 1468 890 611 376\n",
    "H 1108 672 461 284\n",
    "24 L 2812 1704 1171 721\n",
    "M 2188 1326 911 561\n",
    "Q 1588 963 661 407\n",
    "H 1228 744 511 315\n",
    "25 L 3057 1853 1273 784\n",
    "M 2395 1451 997 614\n",
    "Q 1718 1041 715 440\n",
    "H 1286 779 535 330\n",
    "26 L 3283 1990 1367 842\n",
    "M 2544 1542 1059 652\n",
    "Q 1804 1094 751 462\n",
    "H 1425 864 593 365\n",
    "27 L 3517 2132 1465 902\n",
    "M 2701 1637 1125 692\n",
    "Q 1933 1172 805 496\n",
    "H 1501 910 625 385\n",
    "28 L 3669 2223 1528 940\n",
    "M 2857 1732 1190 732\n",
    "Q 2085 1263 868 534\n",
    "H 1581 958 658 405\n",
    "29 L 3909 2369 1628 1002\n",
    "M 3035 1839 1264 778\n",
    "Q 2181 1322 908 559\n",
    "H 1677 1016 698 430\n",
    "30 L 4158 2520 1732 1066\n",
    "M 3289 1994 1370 843\n",
    "Q 2358 1429 982 604\n",
    "H 1782 1080 742 457\n",
    "31 L 4417 2677 1840 1132\n",
    "M 3486 2113 1452 894\n",
    "Q 2473 1499 1030 634\n",
    "H 1897 1150 790 486\n",
    "32 L 4686 2840 1952 1201\n",
    "M 3693 2238 1538 947\n",
    "Q 2670 1618 1112 684\n",
    "H 2022 1226 842 518\n",
    "33 L 4965 3009 2068 1273\n",
    "M 3909 2369 1628 1002\n",
    "Q 2805 1700 1168 719\n",
    "H 2157 1307 898 553\n",
    "34 L 5253 3183 2188 1347\n",
    "M 4134 2506 1722 1060\n",
    "Q 2949 1787 1228 756\n",
    "H 2301 1394 958 590\n",
    "35 L 5529 3351 2303 1417\n",
    "M 4343 2632 1809 1113\n",
    "Q 3081 1867 1283 790\n",
    "H 2361 1431 983 605\n",
    "36 L 5836 3537 2431 1496\n",
    "M 4588 2780 1911 1176\n",
    "Q 3244 1966 1351 832\n",
    "H 2524 1530 1051 647\n",
    "37 L 6153 3729 2563 1577\n",
    "M 4775 2894 1989 1224\n",
    "Q 3417 2071 1423 876\n",
    "H 2625 1591 1093 673\n",
    "38 L 6479 3927 2699 1661\n",
    "M 5039 3054 2099 1292\n",
    "Q 3599 2181 1499 923\n",
    "H 2735 1658 1139 701\n",
    "39 L 6743 4087 2809 1729\n",
    "M 5313 3220 2213 1362\n",
    "Q 3791 2298 1579 972\n",
    "H 2927 1774 1219 750\n",
    "40 L 7089 4296 2953 1817\n",
    "M 5596 3391 2331 1435\n",
    "Q 3993 2420 1663 1024\n",
    "H 3057 1852 1273 784'''\n",
    "\n",
    "max_capacity=np.zeros((40,4,4),dtype=np.uint16)\n",
    "\n",
    "def fill_max_capacity_array(s,a,start=0):\n",
    "    s1=s.split('\\n')\n",
    "    l=len(s1)\n",
    "    for i in range(l):\n",
    "        beg=1\n",
    "        if len(s1[i].split(' '))==6:\n",
    "            start=eval(s1[i].split(' ')[0])\n",
    "            beg=2\n",
    "        a[start-1,i%4,:]=[eval(j) for j in s1[i].split(' ')[beg:]]\n",
    "\n",
    "fill_max_capacity_array(raw_pdf_copied_string,max_capacity)\n",
    "\n",
    "for i in range(40):\n",
    "    if max_capacity[i,ECL,mode]>len(text):\n",
    "        version=i\n",
    "        break\n",
    "print('Selected version is: {}'.format(version))"
   ]
  },
  {
   "cell_type": "markdown",
   "metadata": {},
   "source": [
    "## Step 3: Add the Mode Indicator\n",
    "Each encoding mode has a four-bit mode indicator that identifies it.\n",
    "\n",
    "| Mode Name | Mode Indicator |\n",
    "| :---: | :---: |\n",
    "|Numeric Mode | 0001 |\n",
    "|Alphanumeric Mode | 0010 |\n",
    "|Byte Mode | 0100 |\n",
    "|Kanji Mode | 1000 |\n",
    "|ECI Mode | 0111 |"
   ]
  },
  {
   "cell_type": "code",
   "execution_count": 3,
   "metadata": {},
   "outputs": [
    {
     "name": "stdout",
     "output_type": "stream",
     "text": [
      "mode indicator selected: 0010\n"
     ]
    }
   ],
   "source": [
    "mode_indicator_array=('0001','0010','0100','1000','0111')\n",
    "mode_indicator=mode_indicator_array[mode]\n",
    "print('mode indicator selected: {}'.format(mode_indicator))"
   ]
  },
  {
   "cell_type": "markdown",
   "metadata": {},
   "source": [
    "## Step 4: Add the Character Count Indicator\n",
    "The character count indicator is a string of bits that **represents the number of characters that are being\n",
    "encoded.** The character count indicator must be **placed after the mode indicator.** Character count indicator must be a **certain number of bits long, depending on the QR version.**\n",
    "\n",
    "Count the number of characters in the original input text, then convert that number into binary. The length of the character count indicator depends on the encoding mode and the QR code version that will be in use. **To make the binary string the appropriate length, pad it on the left with 0s.**\n",
    "\n",
    "| | Numeric mode | Alphanumeric mode | Byte mode | Japanese mode |\n",
    "| :-: | :-: | :-: | :-: | :-: |\n",
    "| Versions 1 through 9 | 10 bits | 9 bits | 8 bits | 8 bits |\n",
    "| Versions 10 through 26 | 12 bits | 11 bits | 16 bits | 10 bits |\n",
    "| Versions 27 through 40 | 14 bits | 13 bits | 16 bits | 12 bits |"
   ]
  },
  {
   "cell_type": "code",
   "execution_count": 4,
   "metadata": {},
   "outputs": [
    {
     "name": "stdout",
     "output_type": "stream",
     "text": [
      "Character count for text: 000001110\n"
     ]
    }
   ],
   "source": [
    "character_count_array=np.array([[10,9,8,8],\n",
    "                               [12,11,16,10],\n",
    "                               [14,13,16,12]],dtype=np.uint8)\n",
    "if 1<=version+1<=9:\n",
    "    character_count_len=character_count_array[0,mode]\n",
    "elif 10<=version+1<=26:\n",
    "    character_count_len=character_count_array[1,mode]\n",
    "elif 27<=version+1<=40:\n",
    "    character_count_len=character_count_array[2,mode]\n",
    "character_count=bin(len(text))[2:].zfill(character_count_len)\n",
    "print('Character count for text: {}'.format(character_count))"
   ]
  },
  {
   "cell_type": "markdown",
   "metadata": {},
   "source": [
    "## Step 5: Encode Using the Selected Mode\n",
    "**Each mode has separate encoding.**  \n",
    "[Link to numeric encoding](#Numeric-encoding)  \n",
    "work needed to be done in numeric encoding\n",
    "[Link to alphanumeric encoding](#Alphanumeric-encoding)"
   ]
  },
  {
   "cell_type": "markdown",
   "metadata": {},
   "source": [
    "### Alphanumeric-encoding\n",
    "1. Take a sample string say \"HELLO WORLD\" and split it into pairs of 2 i.e, 'HE','LL','O ','WO','RL' and 'D'.\n",
    "* Find the index of each character in pair and convert it into a number i.e, H->17 and E->14, so equivalent number is `17*45+14=779`.\n",
    "* convert that number into an 11-bit binary string i.e, 779->01100001011\n",
    "* If you are encoding an odd number of characters, as we are here, take the numeric representation of the final character and convert it into a 6-bit binary string."
   ]
  },
  {
   "cell_type": "code",
   "execution_count": 5,
   "metadata": {},
   "outputs": [
    {
     "name": "stdout",
     "output_type": "stream",
     "text": [
      "Alphanumeric encoded data string is : 01001010111010100011110011101100101101100001100001011111001111011001100000111\n"
     ]
    }
   ],
   "source": [
    "alphanumeric_lst=[i for i in '0123456789ABCDEFGHIJKLMNOPQRSTUVWXYZ $%*+-./:']\n",
    "l=len(text)\n",
    "data=''\n",
    "for i in range(0,l,2):\n",
    "    if len(text[i:i+2])==2:\n",
    "        data+=bin(alphanumeric_lst.index(text[i])*45+alphanumeric_lst.index(text[i+1]))[2:].zfill(11)\n",
    "    else:\n",
    "        data+=bin(alphanumeric_lst.index(text[i]))[2:].zfill(6)\n",
    "print('Alphanumeric encoded data string is : {}'.format(data))"
   ]
  },
  {
   "cell_type": "markdown",
   "metadata": {},
   "source": [
    "## Step 6: Break Up into 8-bit Codewords and Add Pad Bytes if necessary\n",
    "After obtaining a string of bits that consists of the mode indicator, the character count indicator, and the data bits, it may be necessary to add 0s and pad bytes, **because the QR code specification requires that the bit string must completely fill the total capacity of the QR code.** So, follow the below steps:\n",
    "* Determine the Required Number of Bits for this QR Code (form the below table)\n",
    "* Add a Terminator of 0s if Necessary at end to make no. of bits multiple of 8.\n",
    "* Add Pad Bytes if the String is Still too Short (11101100 00010001) these bytes are equivalent to 236 and 17, respectively.\n",
    "\n",
    "| Version and EC Level | Total Number of Data Codewords | EC Codewords Per Block | Number of Blocks in Group 1 | Number of Data Codewords in Each of Group 1's Blocks | Number of Blocks in Group 2 | Number of Data Codewords in Each of Group 2's Blocks | Total Data Codewords |\n",
    "| :-: | :-: | :-: | :-: | :-: | :-: | :-: | :-: |\n",
    "| 1-L | 19 | 7 | 1 | 19 | 0 | 0 | (19*1)=19 |\n",
    "| 1-M | 16 | 10 | 1 | 16 | 0 | 0 | (16*1)=16 |\n",
    "| 1-Q | 13 | 13 | 1 | 13 | 0 | 0 | (13*1)=13 |\n",
    "| 1-H | 9 | 17 | 1 | 9 | 0 | 0 | (9*1)=9 |\n",
    "| 2-L | 34 | 10 | 1 | 34 | 0 | 0 | (34*1)=34 |\n",
    "| 2-M | 28 | 16 | 1 | 28 | 0 | 0 | (28*1)=28 |\n",
    "| 2-Q | 22 | 22 | 1 | 22 | 0 | 0 | (22*1)=22 |\n",
    "| 2-H | 16 | 28 | 1 | 16 | 0 | 0 | (16*1)=16 |\n",
    "| 3-L | 55 | 15 | 1 | 55 | 0 | 0 | (55*1)=55 |\n",
    "| 3-M | 44 | 26 | 1 | 44 | 0 | 0 | (44*1)=44 |\n",
    "| 3-Q | 34 | 18 | 2 | 17 | 0 | 0 | (17*2)=34 |\n",
    "| 3-H | 26 | 22 | 2 | 13 | 0 | 0 | (13*2)=26 |\n",
    "| 4-L | 80 | 20 | 1 | 80 | 0 | 0 | (80*1)=80 |\n",
    "| 4-M | 64 | 18 | 2 | 32 | 0 | 0 | (32*2)=64 |\n",
    "| 4-Q | 48 | 26 | 2 | 24 | 0 | 0 | (24*2)=48 |\n",
    "| 4-H | 36 | 16 | 4 | 9 | 0 | 0 | (9*4)=36 |\n",
    "| 5-L | 108 | 26 | 1 | 108 | 0 | 0 | (108*1)=108 |\n",
    "| 5-M | 86 | 24 | 2 | 43 | 0 | 0 | (43*2)=86 |\n",
    "| 5-Q | 62 | 18 | 2 | 15 | 2 | 16 | (15*2)+(16*2)=62 |\n",
    "| 5-H | 46 | 22 | 2 | 11 | 2 | 12 | (11*2)+(12*2)=46 |\n",
    "| 6-L | 136 | 18 | 2 | 68 | 0 | 0 | (68*2)=136 |\n",
    "| 6-M | 108 | 16 | 4 | 27 | 0 | 0 | (27*4)=108 |\n",
    "| 6-Q | 76 | 24 | 4 | 19 | 0 | 0 | (19*4)=76 |\n",
    "| 6-H | 60 | 28 | 4 | 15 | 0 | 0 | (15*4)=60 |\n",
    "| 7-L | 156 | 20 | 2 | 78 | 0 | 0 | (78*2)=156 |\n",
    "| 7-M | 124 | 18 | 4 | 31 | 0 | 0 | (31*4)=124 |\n",
    "| 7-Q | 88 | 18 | 2 | 14 | 4 | 15 | (14*2)+(15*4)=88 |\n",
    "| 7-H | 66 | 26 | 4 | 13 | 1 | 14 | (13*4)+(14*1)=66 |\n",
    "| 8-L | 194 | 24 | 2 | 97 | 0 | 0 | (97*2)=194 |\n",
    "| 8-M | 154 | 22 | 2 | 38 | 2 | 39 | (38*2)+(39*2)=154 |\n",
    "| 8-Q | 110 | 22 | 4 | 18 | 2 | 19 | (18*4)+(19*2)=110 |\n",
    "| 8-H | 86 | 26 | 4 | 14 | 2 | 15 | (14*4)+(15*2)=86 |"
   ]
  },
  {
   "cell_type": "code",
   "execution_count": 16,
   "metadata": {},
   "outputs": [
    {
     "name": "stdout",
     "output_type": "stream",
     "text": [
      "Total Codeword for version: 1 and Error correction level: 0 is 19\n",
      "90\n",
      "Encoded data: 00100000011100100101011101010001111001110110010110110000110000101111100111101100110000011100000011101100000100011110110000010001111011000001000111101100\n",
      "Length of encoded data: 152 bits\n",
      "No. of bits required for this version: 152 bits\n"
     ]
    }
   ],
   "source": [
    "# Index 0 is for 1-L, then for 1-M, 1-Q, 1-H, 2-L,...\n",
    "totalDataCW=[19, 16, 13, 9, 34, 28, 22, 16, 55, 44, 34, 26, 80, 64, 48, 36, 108, 86, 62, 46, 136, 108, 76, 60, 156, 124, 88, 66, 194, 154, 110, 86]\n",
    "codeWord=totalDataCW[4*version+ECL]\n",
    "print('Total Codeword for version: {} and Error correction level: {} is {}'.format(version+1,ECL,codeWord))\n",
    "combined_data=mode_indicator+character_count+data\n",
    "l=len(combined_data)\n",
    "print(l)\n",
    "if l%8!=0:\n",
    "    combined_data=combined_data+''.zfill(8-l%8)\n",
    "    l=len(combined_data)\n",
    "    padding=['11101100','00010001']\n",
    "    for i in range(codeWord):\n",
    "        if len(combined_data)==8*codeWord:\n",
    "            break\n",
    "        combined_data=combined_data+padding[i%2]\n",
    "print('Encoded data: {}\\nLength of encoded data: {} bits\\nNo. of bits required for this version: {} bits'.format(\n",
    "    combined_data,len(combined_data),codeWord*8))"
   ]
  },
  {
   "cell_type": "code",
   "execution_count": 18,
   "metadata": {},
   "outputs": [
    {
     "name": "stdout",
     "output_type": "stream",
     "text": [
      "0 1 0 \n",
      "\n",
      "0010 000001110 01001010111010100011110011101100101101100001100001011111001111011001100000111 \n",
      "\n",
      "00100000011100100101011101010001111001110110010110110000110000101111100111101100110000011100000011101100000100011110110000010001111011000001000111101100 \n",
      "\n"
     ]
    }
   ],
   "source": [
    "# Displaying all results\n",
    "print(version,mode,ECL,'\\n')\n",
    "print(mode_indicator,character_count,data,'\\n')\n",
    "print(combined_data,'\\n')"
   ]
  }
 ],
 "metadata": {
  "kernelspec": {
   "display_name": "Python 3",
   "language": "python",
   "name": "python3"
  },
  "language_info": {
   "codemirror_mode": {
    "name": "ipython",
    "version": 3
   },
   "file_extension": ".py",
   "mimetype": "text/x-python",
   "name": "python",
   "nbconvert_exporter": "python",
   "pygments_lexer": "ipython3",
   "version": "3.6.1"
  }
 },
 "nbformat": 4,
 "nbformat_minor": 2
}
